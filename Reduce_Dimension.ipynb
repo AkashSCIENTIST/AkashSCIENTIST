{
  "nbformat": 4,
  "nbformat_minor": 0,
  "metadata": {
    "colab": {
      "name": "Reduce Dimension",
      "provenance": [],
      "collapsed_sections": [],
      "authorship_tag": "ABX9TyNJdLMOkQYyG/HQK8L0MOmY",
      "include_colab_link": true
    },
    "kernelspec": {
      "name": "python3",
      "display_name": "Python 3"
    },
    "language_info": {
      "name": "python"
    }
  },
  "cells": [
    {
      "cell_type": "markdown",
      "metadata": {
        "id": "view-in-github",
        "colab_type": "text"
      },
      "source": [
        "<a href=\"https://colab.research.google.com/github/AkashSCIENTIST/AkashSCIENTIST/blob/main/Reduce_Dimension.ipynb\" target=\"_parent\"><img src=\"https://colab.research.google.com/assets/colab-badge.svg\" alt=\"Open In Colab\"/></a>"
      ]
    },
    {
      "cell_type": "code",
      "metadata": {
        "id": "yeYZ0pb2oRIe"
      },
      "source": [
        "from numpy import array, matmul,cov\n",
        "from numpy.linalg import svd\n",
        "\n",
        "class ReduceDimensions():\n",
        "  def __init__(self, arr):\n",
        "    self.__array = array(arr)\n",
        "  \n",
        "  def get(self, ndims):\n",
        "    if (ndims < 1):\n",
        "      raise Exception(\"Dimension cannot be lesser than 1\")\n",
        "\n",
        "    self.__ndims = ndims\n",
        "    covMatrix = cov(self.__array)\n",
        "    U, S, VT = svd(covMatrix)\n",
        "\n",
        "    if (ndims > U.shape[0]):\n",
        "      raise Exception(\"Given Dimension exceeds Original Dimension\")\n",
        "\n",
        "    U_Reduced = U[:, 0:self.__ndims]\n",
        "    A_Reduced = matmul(U_Reduced.T, self.__array)\n",
        "    self.__reduced = A_Reduced\n",
        "  \n",
        "    return self.__reduced.tolist()\n",
        "\n",
        "  def getLastReduced(self):\n",
        "    return self.__reduced.tolist()\n",
        "\n",
        "  def shape(self):\n",
        "    return self.__reduced.shape\n",
        "\n",
        "  def dim(self):\n",
        "    return self.__ndims"
      ],
      "execution_count": 1,
      "outputs": []
    },
    {
      "cell_type": "code",
      "metadata": {
        "colab": {
          "base_uri": "https://localhost:8080/"
        },
        "id": "V84Gg8yrf_q4",
        "outputId": "51ab7762-d8d7-42c4-ec9d-2c8ac87f7492"
      },
      "source": [
        "if __name__ == \"__main__\":\n",
        "  arr = [\n",
        "        [1,2,3],\n",
        "        [4,5,6],\n",
        "        [7,8,9]\n",
        "  ]\n",
        "\n",
        "  rd = ReduceDimensions(arr)\n",
        "  print(rd.get(2), rd.getLastReduced(), rd.shape(), rd.dim(), sep=\"\\n\")"
      ],
      "execution_count": 4,
      "outputs": [
        {
          "output_type": "stream",
          "name": "stdout",
          "text": [
            "[[-6.928203230275508, -8.660254037844384, -10.39230484541326], [-3.6742346141747655, -3.6742346141747655, -3.6742346141747655]]\n",
            "[[-6.928203230275508, -8.660254037844384, -10.39230484541326], [-3.6742346141747655, -3.6742346141747655, -3.6742346141747655]]\n",
            "(2, 3)\n",
            "2\n"
          ]
        }
      ]
    },
    {
      "cell_type": "code",
      "metadata": {
        "id": "pGEE4XJih5sv"
      },
      "source": [
        ""
      ],
      "execution_count": null,
      "outputs": []
    }
  ]
}